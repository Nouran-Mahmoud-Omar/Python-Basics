{
  "nbformat": 4,
  "nbformat_minor": 0,
  "metadata": {
    "colab": {
      "provenance": []
    },
    "kernelspec": {
      "name": "python3",
      "display_name": "Python 3"
    },
    "language_info": {
      "name": "python"
    }
  },
  "cells": [
    {
      "cell_type": "markdown",
      "source": [
        "# Task_1"
      ],
      "metadata": {
        "id": "5tiqkSxGtqRH"
      }
    },
    {
      "cell_type": "markdown",
      "source": [
        "# <font color='red'> 1) Mark down all the Valid boolean expression in python: </font> \n",
        "\n",
        "#### A) n > 100 and < 500\n",
        "#### B) n > 100 and n < 500\n",
        "#### C) 100 < n < 500\n"
      ],
      "metadata": {
        "id": "YWgp6TQynE42"
      }
    },
    {
      "cell_type": "code",
      "source": [],
      "metadata": {
        "id": "3xBB-JLJuJ-8"
      },
      "execution_count": null,
      "outputs": []
    },
    {
      "cell_type": "code",
      "source": [
        "A = False #@param {type:\"boolean\"} \n",
        "B = True #@param {type:\"boolean\"} \n",
        "C = True #@param {type:\"boolean\"} \n"
      ],
      "metadata": {
        "id": "WaBM7Ua0l96Z"
      },
      "execution_count": null,
      "outputs": []
    },
    {
      "cell_type": "markdown",
      "source": [
        "\n",
        "# <font color='red'> 2) Fill the gaps to get the ouput as in the example below:\n",
        "##### (For any string greater than 3 characters)\n",
        "#### **Input**: \"globalization\" \n",
        "#### **Output**: g11n\n",
        "#### **\n",
        "#### **Input**: \"subjective\" \n",
        "#### **Output**: s8e\n",
        "#### **\n",
        "\n",
        "### YOUR CODE: \n",
        "<font color='brown'> **s = input()** \n",
        "<br> **print(... + ... + ...)**\n"
      ],
      "metadata": {
        "id": "rzaw1bLYjps-"
      }
    },
    {
      "cell_type": "code",
      "source": [
        "your_string=input(\"Enter a string: \")\n",
        "print(your_string[0]+str(len(your_string[1:-1]))+your_string[-1])"
      ],
      "metadata": {
        "id": "HgAM8xvtnEbf"
      },
      "execution_count": null,
      "outputs": []
    },
    {
      "cell_type": "markdown",
      "source": [
        "# <font color='red'> 3) Create a tuple of 10 elements and then multiply each element of the tuple by 2 & save the results in a list"
      ],
      "metadata": {
        "id": "S-tbOKj-lkek"
      }
    },
    {
      "cell_type": "code",
      "source": [
        "tup=tuple(range(11))\n",
        "print(tup)\n",
        "\n",
        "lst=[]\n",
        "for element in tup:\n",
        "  lst.append(element*2)\n",
        "print(lst)"
      ],
      "metadata": {
        "id": "B49aQLyil_gC",
        "colab": {
          "base_uri": "https://localhost:8080/"
        },
        "outputId": "3a67c72f-f50f-41f0-e191-dda36a0f98ef"
      },
      "execution_count": 5,
      "outputs": [
        {
          "output_type": "stream",
          "name": "stdout",
          "text": [
            "(0, 1, 2, 3, 4, 5, 6, 7, 8, 9, 10)\n",
            "[0, 2, 4, 6, 8, 10, 12, 14, 16, 18, 20]\n"
          ]
        }
      ]
    },
    {
      "cell_type": "markdown",
      "source": [
        "# <font color='red'> 4) Reverse the string 'Mansoura' using slicing"
      ],
      "metadata": {
        "id": "LCdj2MzVp_7v"
      }
    },
    {
      "cell_type": "code",
      "source": [
        "string=\"Mansoura\"\n",
        "print(string[-1::-1])"
      ],
      "metadata": {
        "id": "SubUk05Cs_k6",
        "colab": {
          "base_uri": "https://localhost:8080/"
        },
        "outputId": "718d42d2-0b2a-4d2a-f1aa-111c06ca6cc7"
      },
      "execution_count": 8,
      "outputs": [
        {
          "output_type": "stream",
          "name": "stdout",
          "text": [
            "aruosnaM\n"
          ]
        }
      ]
    },
    {
      "cell_type": "markdown",
      "source": [
        "# <font color='red'> 5) Use List Comprehension to create a list of the first letters of ever-y word in the string below:\n",
        "\n",
        "* st = 'Friendship is the tree of its seeds tender'"
      ],
      "metadata": {
        "id": "XF8kQVzzsD6t"
      }
    },
    {
      "cell_type": "code",
      "source": [
        "st = 'Friendship is the tree of its seeds tender'\n",
        "lst=[]\n",
        "st1=st.split()\n",
        "print(st1)\n",
        "for letter in st1:\n",
        "  lst.append(letter[0])\n",
        "print(lst)"
      ],
      "metadata": {
        "id": "4BaX05QQtA7f",
        "colab": {
          "base_uri": "https://localhost:8080/"
        },
        "outputId": "fafba31c-1002-4a4e-a677-33b3dd492cce"
      },
      "execution_count": 13,
      "outputs": [
        {
          "output_type": "stream",
          "name": "stdout",
          "text": [
            "['Friendship', 'is', 'the', 'tree', 'of', 'its', 'seeds', 'tender']\n",
            "['F', 'i', 't', 't', 'o', 'i', 's', 't']\n"
          ]
        }
      ]
    },
    {
      "cell_type": "markdown",
      "source": [
        "# <font color='cyan'> BONUS <font color='red'> 6) Create a class called car that include some valriables like : \n",
        "* name\n",
        "* color\n",
        "* age"
      ],
      "metadata": {
        "id": "GQo7e9YPmlQ0"
      }
    },
    {
      "cell_type": "code",
      "source": [
        "class Car:\n",
        "    def __init__(self, name, color, age):\n",
        "        self.name = name\n",
        "        self.color = color\n",
        "        self.age = age"
      ],
      "metadata": {
        "id": "PG15Tr-8tfni"
      },
      "execution_count": 15,
      "outputs": []
    },
    {
      "cell_type": "markdown",
      "source": [
        "# <font color='red'> **Solve these problems with python**:<br>\n",
        "<a href='https://www.hackerrank.com/challenges/python-string-split-and-join/problem'> **problem 1**\n",
        "    <br>\n",
        "    <br>\n",
        "<a href='https://www.hackerrank.com/challenges/py-if-else/problem'> **problem 2**\n",
        "<br>\n",
        "<br>\n",
        "<a href='https://codeforces.com/group/MWSDmqGsZm/contest/219158/problem/Y'> **problem 3**\n",
        "    <br>\n",
        "    <br>\n",
        "<a href='https://www.hackerrank.com/challenges/list-comprehensions/problem'> **problem 4** <font color='cyan'> BONUS\n",
        "    <br>\n",
        "    <br>\n",
        "<a href='https://www.hackerrank.com/challenges/swap-case/problem'> **problem 5** <font color='cyan'> BONUS\n",
        "    <br>\n",
        "    <br>\n",
        "<a href='https://codeforces.com/group/MWSDmqGsZm/contest/219158/problem/X'> **problem 6** <font color='cyan'> BONUS\n",
        "    <br>\n"
      ],
      "metadata": {
        "id": "T4VSxkHzuaDa"
      }
    },
    {
      "cell_type": "code",
      "source": [
        "#problem 1 \n",
        "def split_and_join(line):\n",
        "    str1 = line.split(\" \")\n",
        "    # time for joining them again\n",
        "    str2 = \"-\".join(str1)\n",
        "    \n",
        "    return(str2)\n",
        "\n",
        "\n",
        "\n",
        "\n",
        "if __name__ == '__main__':\n",
        "    line = input()\n",
        "    result = split_and_join(line)\n",
        "    print(result)\n",
        "\n",
        "\n"
      ],
      "metadata": {
        "id": "WfsduVL1vqsP",
        "colab": {
          "base_uri": "https://localhost:8080/"
        },
        "outputId": "84682a03-b060-4630-c628-d111ac71a93e"
      },
      "execution_count": 14,
      "outputs": [
        {
          "output_type": "stream",
          "name": "stdout",
          "text": [
            "this is a string\n",
            "this-is-a-string\n"
          ]
        }
      ]
    },
    {
      "cell_type": "code",
      "source": [
        "#problem 2\n",
        "import math\n",
        "import os\n",
        "import random\n",
        "import re\n",
        "import sys\n",
        "\n",
        "\n",
        "\n",
        "if __name__ == '__main__':\n",
        "    n = int(input().strip())\n",
        "    if 1<=n<=100:\n",
        "        if n%2!=0:\n",
        "         print(\"Weird\")\n",
        "        elif 2<=n<=5:\n",
        "            if n%2==0:\n",
        "                print(\"Not Weird\")\n",
        "        elif 6<=n<=20:\n",
        "            if n%2==0:\n",
        "                print(\"Weird\")\n",
        "        else: \n",
        "            print(\"Not Weird\")  \n",
        "\n",
        "\n"
      ],
      "metadata": {
        "id": "tV6DFexRvq5-",
        "colab": {
          "base_uri": "https://localhost:8080/"
        },
        "outputId": "2f2e09d2-d73a-4198-f85b-28dafde32035"
      },
      "execution_count": 17,
      "outputs": [
        {
          "output_type": "stream",
          "name": "stdout",
          "text": [
            "24\n",
            "Not Weird\n"
          ]
        }
      ]
    },
    {
      "cell_type": "code",
      "source": [
        "#problem 3\n",
        "num1 = int(input(\"Enter num1:\"))\n",
        "num2 = int(input(\"Enter num2:\"))\n",
        "num3 = int(input(\"Enter num3:\"))\n",
        "num4 = int(input(\"Enter num4:\"))\n",
        "mul=num1*num2*num3*num4\n",
        "str_mul=str(mul)\n",
        "print(str_mul[-2:])\n",
        "\n",
        "\n"
      ],
      "metadata": {
        "id": "8L9HjXVIvrB-"
      },
      "execution_count": null,
      "outputs": []
    },
    {
      "cell_type": "code",
      "source": [
        "#problem 4\n",
        "#this one was hard for me so I asked chatGPT\n",
        "if __name__ == '__main__':\n",
        "    x = int(input())\n",
        "    y = int(input())\n",
        "    z = int(input())\n",
        "    n = int(input())\n",
        "    coordinates = [[i, j, k] for i in range(x+1) for j in range(y+1) for k in range(z+1)]\n",
        "    filtered_coordinates = [c for c in coordinates if sum(c) != n]\n",
        "\n",
        "print(filtered_coordinates)\n",
        "\n",
        "\n"
      ],
      "metadata": {
        "id": "3f6ciBn7vrOL"
      },
      "execution_count": null,
      "outputs": []
    },
    {
      "cell_type": "code",
      "source": [
        "#problem 5 \n",
        "def swap_case(s):\n",
        "    swapp=s.swapcase()\n",
        "    return(swapp)\n",
        "\n",
        "if __name__ == '__main__':\n",
        "    s = input()\n",
        "    result = swap_case(s)\n",
        "    print(result)\n",
        "\n",
        "\n"
      ],
      "metadata": {
        "id": "VfYvejyOvrem"
      },
      "execution_count": null,
      "outputs": []
    },
    {
      "cell_type": "code",
      "source": [
        "#problem 6\n",
        "l1=int(input(\"Enter l1: \"))\n",
        "r1=int(input(\"Enter r1: \"))\n",
        "l2=int(input(\"Enter l2: \"))\n",
        "r2=int(input(\"Enter r2: \"))\n",
        "\n",
        "interval1=range(l1,r1+1)\n",
        "set_of_int1=set(interval1)\n",
        "print(set_of_int1)\n",
        "\n",
        "interval2=range(l2,r2+1)\n",
        "set_of_int2=set(interval2)\n",
        "print(set_of_int2)\n",
        "\n",
        "if set_of_int1 & set_of_int2:\n",
        "    print(set_of_int1 & set_of_int2)\n",
        "    int_set=list(set_of_int1 & set_of_int2)\n",
        "    end_set=list(set_of_int1 & set_of_int2)\n",
        "    print(f\"[{int_set[0]}:{end_set[-1]}]\")\n",
        "else:\n",
        "    print(-1)\n",
        "\n",
        "\n"
      ],
      "metadata": {
        "id": "QgXXw8otvr8D"
      },
      "execution_count": null,
      "outputs": []
    }
  ]
}